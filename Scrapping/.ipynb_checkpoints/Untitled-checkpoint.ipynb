{
 "cells": [
  {
   "cell_type": "code",
   "execution_count": 16,
   "metadata": {},
   "outputs": [],
   "source": [
    "# Python program to convert \n",
    "# JSON file to CSV \n",
    "  \n",
    "import json \n",
    "import csv\n",
    "  \n",
    "# Opening JSON file and loading the data \n",
    "# into the variable data \n",
    "with open('../data/channel_info.json') as json_file: \n",
    "    data = json.load(json_file) "
   ]
  },
  {
   "cell_type": "code",
   "execution_count": 17,
   "metadata": {},
   "outputs": [
    {
     "data": {
      "text/plain": [
       "{'kind': 'youtube#channelListResponse',\n",
       " 'etag': 'LR9AsO3EJYbEuJNjxH2dyGliyIo',\n",
       " 'pageInfo': {'resultsPerPage': 1},\n",
       " 'items': [{'kind': 'youtube#channel',\n",
       "   'etag': '3A-2jW9h3qCy3yfbFsr3nW6ZpJc',\n",
       "   'id': 'UC0NCbj8CxzeCGIF6sODJ-7A',\n",
       "   'snippet': {'title': 'Science4All',\n",
       "    'description': \"Hello ! Je m'appelle Lê Nguyên Hoang (appelez-moi Lê), et j'adore les maths, la physique et les sciences en général. Science4All est ma chaîne francophone. \\nDepuis août 2016, je travaille pour le projet Wandida à l'EPFL, une autre chaîne YouTube d'informatique / maths / physique qui cible plus les étudiants à l'université (et un peu les académiques aussi), et en novembre 2016, j'ai lancé la chaîne anglophone de vulgarisation ZettaBytes.\\nDepuis juillet 2017, je tiens le Podcast Axiome avec Monsieur Phi.\\nDepuis janvier 2019, je tiens le Robustly Beneficial Podcast avec Louis Faucon et El Mahdi El Mhamdi.\",\n",
       "    'customUrl': 'science4allfrancais',\n",
       "    'publishedAt': '2016-02-10T11:08:14Z',\n",
       "    'thumbnails': {'default': {'url': 'https://yt3.ggpht.com/a/AATXAJy-MIz7Jqih0_YzWobO3g2YzBbsLFq_M5ZG0cbQDg=s88-c-k-c0xffffffff-no-rj-mo',\n",
       "      'width': 88,\n",
       "      'height': 88},\n",
       "     'medium': {'url': 'https://yt3.ggpht.com/a/AATXAJy-MIz7Jqih0_YzWobO3g2YzBbsLFq_M5ZG0cbQDg=s240-c-k-c0xffffffff-no-rj-mo',\n",
       "      'width': 240,\n",
       "      'height': 240},\n",
       "     'high': {'url': 'https://yt3.ggpht.com/a/AATXAJy-MIz7Jqih0_YzWobO3g2YzBbsLFq_M5ZG0cbQDg=s800-c-k-c0xffffffff-no-rj-mo',\n",
       "      'width': 800,\n",
       "      'height': 800}},\n",
       "    'localized': {'title': 'Science4All',\n",
       "     'description': \"Hello ! Je m'appelle Lê Nguyên Hoang (appelez-moi Lê), et j'adore les maths, la physique et les sciences en général. Science4All est ma chaîne francophone. \\nDepuis août 2016, je travaille pour le projet Wandida à l'EPFL, une autre chaîne YouTube d'informatique / maths / physique qui cible plus les étudiants à l'université (et un peu les académiques aussi), et en novembre 2016, j'ai lancé la chaîne anglophone de vulgarisation ZettaBytes.\\nDepuis juillet 2017, je tiens le Podcast Axiome avec Monsieur Phi.\\nDepuis janvier 2019, je tiens le Robustly Beneficial Podcast avec Louis Faucon et El Mahdi El Mhamdi.\"},\n",
       "    'country': 'FR'},\n",
       "   'statistics': {'viewCount': '13607244',\n",
       "    'commentCount': '0',\n",
       "    'subscriberCount': '193000',\n",
       "    'hiddenSubscriberCount': False,\n",
       "    'videoCount': '322'}}]}"
      ]
     },
     "execution_count": 17,
     "metadata": {},
     "output_type": "execute_result"
    }
   ],
   "source": [
    "data"
   ]
  },
  {
   "cell_type": "code",
   "execution_count": 60,
   "metadata": {},
   "outputs": [],
   "source": [
    "import pprint\n",
    "import json\n",
    "pp = pprint.PrettyPrinter(indent=3)"
   ]
  },
  {
   "cell_type": "code",
   "execution_count": 62,
   "metadata": {},
   "outputs": [
    {
     "name": "stdout",
     "output_type": "stream",
     "text": [
      "'Science4All'\n",
      "(\"Hello ! Je m'appelle Lê Nguyên Hoang (appelez-moi Lê), et j'adore les maths, \"\n",
      " 'la physique et les sciences en général. Science4All est ma chaîne '\n",
      " 'francophone. \\n'\n",
      " \"Depuis août 2016, je travaille pour le projet Wandida à l'EPFL, une autre \"\n",
      " \"chaîne YouTube d'informatique / maths / physique qui cible plus les \"\n",
      " \"étudiants à l'université (et un peu les académiques aussi), et en novembre \"\n",
      " \"2016, j'ai lancé la chaîne anglophone de vulgarisation ZettaBytes.\\n\"\n",
      " 'Depuis juillet 2017, je tiens le Podcast Axiome avec Monsieur Phi.\\n'\n",
      " 'Depuis janvier 2019, je tiens le Robustly Beneficial Podcast avec Louis '\n",
      " 'Faucon et El Mahdi El Mhamdi.')\n"
     ]
    }
   ],
   "source": [
    "pp.pprint(data['items'][0]['snippet']['title'])\n",
    "pp.pprint(data['items'][0]['snippet']['description'])"
   ]
  },
  {
   "cell_type": "code",
   "execution_count": 65,
   "metadata": {},
   "outputs": [
    {
     "name": "stdout",
     "output_type": "stream",
     "text": [
      "['Science4All']\n",
      "(\"Hello ! Je m'appelle Lê Nguyên Hoang (appelez-moi Lê), et j'adore les maths, \"\n",
      " 'la physique et les sciences en général. Science4All est ma chaîne '\n",
      " 'francophone. \\n'\n",
      " \"Depuis août 2016, je travaille pour le projet Wandida à l'EPFL, une autre \"\n",
      " \"chaîne YouTube d'informatique / maths / physique qui cible plus les \"\n",
      " \"étudiants à l'université (et un peu les académiques aussi), et en novembre \"\n",
      " \"2016, j'ai lancé la chaîne anglophone de vulgarisation ZettaBytes.\\n\"\n",
      " 'Depuis juillet 2017, je tiens le Podcast Axiome avec Monsieur Phi.\\n'\n",
      " 'Depuis janvier 2019, je tiens le Robustly Beneficial Podcast avec Louis '\n",
      " 'Faucon et El Mahdi El Mhamdi.')\n"
     ]
    }
   ],
   "source": [
    "titles = []\n",
    "description = []\n",
    "\n",
    "list_length = list(range(len(data['items'])-2))\n",
    "for items in data['items']:\n",
    "    try:\n",
    "        title = items['snippet']['title']\n",
    "        description = items['snippet']['description']\n",
    "        \n",
    "    except:\n",
    "        pass\n",
    "    titles.append(title)\n",
    "pp.pprint(titles)\n",
    "pp.pprint(description)"
   ]
  },
  {
   "cell_type": "code",
   "execution_count": null,
   "metadata": {},
   "outputs": [],
   "source": []
  }
 ],
 "metadata": {
  "kernelspec": {
   "display_name": "Python 3",
   "language": "python",
   "name": "python3"
  },
  "language_info": {
   "codemirror_mode": {
    "name": "ipython",
    "version": 3
   },
   "file_extension": ".py",
   "mimetype": "text/x-python",
   "name": "python",
   "nbconvert_exporter": "python",
   "pygments_lexer": "ipython3",
   "version": "3.7.4"
  }
 },
 "nbformat": 4,
 "nbformat_minor": 4
}

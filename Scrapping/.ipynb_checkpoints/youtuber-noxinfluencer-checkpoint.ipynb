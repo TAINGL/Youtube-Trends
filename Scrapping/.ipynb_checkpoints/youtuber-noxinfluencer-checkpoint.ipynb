{
 "cells": [
  {
   "cell_type": "code",
   "execution_count": 33,
   "metadata": {},
   "outputs": [],
   "source": [
    "import time\n",
    "from selenium import webdriver\n",
    "from bs4 import BeautifulSoup as bs\n",
    "\n",
    "browser = webdriver.Chrome()\n",
    "\n",
    "# Tell Selenium to get the URL you're interested in.\n",
    "browser.get(\"https://www.noxinfluencer.com/youtube-channel-rank/top-1000-all-all-youtuber-sorted-by-subs-weekly\")\n",
    "\n",
    "# Selenium script to scroll to the bottom, wait 3 seconds for the next batch of data to load, then continue scrolling.  It will continue to do this until the page stops loading new data.\n",
    "lenOfPage = browser.execute_script(\"window.scrollTo(0, document.body.scrollHeight);var lenOfPage=document.body.scrollHeight;return lenOfPage;\")\n",
    "match=False\n",
    "while(match==False):\n",
    "    lastCount = lenOfPage\n",
    "    time.sleep(3)\n",
    "    lenOfPage = browser.execute_script(\"window.scrollTo(0, document.body.scrollHeight);var lenOfPage=document.body.scrollHeight;return lenOfPage;\")\n",
    "    if lastCount==lenOfPage:\n",
    "        match=True\n",
    "\n",
    "# Now that the page is fully scrolled, grab the source code.\n",
    "source_data = browser.page_source\n",
    "\n",
    "# Throw your source into BeautifulSoup and start parsing!\n",
    "bs_data = bs(source_data)"
   ]
  },
  {
   "cell_type": "code",
   "execution_count": 37,
   "metadata": {},
   "outputs": [],
   "source": [
    "tables = bs_data.find_all(\"table\")"
   ]
  },
  {
   "cell_type": "code",
   "execution_count": 55,
   "metadata": {},
   "outputs": [],
   "source": [
    "table = tables[0]\n",
    "tab_data = [[cell.text for cell in row.find_all([\"th\",\"td\"])]\n",
    "                        for row in table.find_all(\"tr\")]\n",
    "df = pd.DataFrame(tab_data)"
   ]
  },
  {
   "cell_type": "code",
   "execution_count": 56,
   "metadata": {},
   "outputs": [
    {
     "data": {
      "text/html": [
       "<div>\n",
       "<style scoped>\n",
       "    .dataframe tbody tr th:only-of-type {\n",
       "        vertical-align: middle;\n",
       "    }\n",
       "\n",
       "    .dataframe tbody tr th {\n",
       "        vertical-align: top;\n",
       "    }\n",
       "\n",
       "    .dataframe thead th {\n",
       "        text-align: right;\n",
       "    }\n",
       "</style>\n",
       "<table border=\"1\" class=\"dataframe\">\n",
       "  <thead>\n",
       "    <tr style=\"text-align: right;\">\n",
       "      <th></th>\n",
       "      <th>0</th>\n",
       "      <th>1</th>\n",
       "      <th>2</th>\n",
       "      <th>3</th>\n",
       "      <th>4</th>\n",
       "      <th>5</th>\n",
       "    </tr>\n",
       "  </thead>\n",
       "  <tbody>\n",
       "    <tr>\n",
       "      <th>0</th>\n",
       "      <td></td>\n",
       "      <td>Channel Info</td>\n",
       "      <td>Category</td>\n",
       "      <td>Subscribers</td>\n",
       "      <td>Avg.Views</td>\n",
       "      <td>NoxScore</td>\n",
       "    </tr>\n",
       "    <tr>\n",
       "      <th>1</th>\n",
       "      <td>-</td>\n",
       "      <td>T-Series</td>\n",
       "      <td>Music</td>\n",
       "      <td>155M ↑  0.7%</td>\n",
       "      <td>3.04M   ↑   20.7%</td>\n",
       "      <td></td>\n",
       "    </tr>\n",
       "    <tr>\n",
       "      <th>2</th>\n",
       "      <td>-</td>\n",
       "      <td>PewDiePie</td>\n",
       "      <td>Entertainment</td>\n",
       "      <td>107M   -</td>\n",
       "      <td>5.22M   ↑   6%</td>\n",
       "      <td></td>\n",
       "    </tr>\n",
       "    <tr>\n",
       "      <th>3</th>\n",
       "      <td>-</td>\n",
       "      <td>Cocomelon - Nursery Rhymes</td>\n",
       "      <td>Education</td>\n",
       "      <td>94.5M ↑  0.8%</td>\n",
       "      <td>37.26M   ↑   2.9%</td>\n",
       "      <td></td>\n",
       "    </tr>\n",
       "    <tr>\n",
       "      <th>4</th>\n",
       "      <td>4     -</td>\n",
       "      <td>SET India</td>\n",
       "      <td>Entertainment</td>\n",
       "      <td>83.9M ↑  1.1%</td>\n",
       "      <td>22.4K   ↑   18.4%</td>\n",
       "      <td></td>\n",
       "    </tr>\n",
       "  </tbody>\n",
       "</table>\n",
       "</div>"
      ],
      "text/plain": [
       "             0                               1                  2  \\\n",
       "0                                Channel Info           Category    \n",
       "1         -                          T-Series             Music     \n",
       "2         -                         PewDiePie     Entertainment     \n",
       "3         -        Cocomelon - Nursery Rhymes         Education     \n",
       "4   4     -                         SET India     Entertainment     \n",
       "\n",
       "                 3                     4          5  \n",
       "0    Subscribers           Avg.Views       NoxScore  \n",
       "1    155M ↑  0.7%     3.04M   ↑   20.7%              \n",
       "2      107M   -          5.22M   ↑   6%              \n",
       "3   94.5M ↑  0.8%     37.26M   ↑   2.9%              \n",
       "4   83.9M ↑  1.1%     22.4K   ↑   18.4%              "
      ]
     },
     "execution_count": 56,
     "metadata": {},
     "output_type": "execute_result"
    }
   ],
   "source": [
    "df.head()"
   ]
  },
  {
   "cell_type": "code",
   "execution_count": 57,
   "metadata": {},
   "outputs": [],
   "source": [
    "df.columns = df.iloc[0,:]\n",
    "df.drop(index=0,inplace=True)"
   ]
  },
  {
   "cell_type": "code",
   "execution_count": 58,
   "metadata": {},
   "outputs": [
    {
     "data": {
      "text/html": [
       "<div>\n",
       "<style scoped>\n",
       "    .dataframe tbody tr th:only-of-type {\n",
       "        vertical-align: middle;\n",
       "    }\n",
       "\n",
       "    .dataframe tbody tr th {\n",
       "        vertical-align: top;\n",
       "    }\n",
       "\n",
       "    .dataframe thead th {\n",
       "        text-align: right;\n",
       "    }\n",
       "</style>\n",
       "<table border=\"1\" class=\"dataframe\">\n",
       "  <thead>\n",
       "    <tr style=\"text-align: right;\">\n",
       "      <th></th>\n",
       "      <th></th>\n",
       "      <th>Channel Info</th>\n",
       "      <th>Category</th>\n",
       "      <th>Subscribers</th>\n",
       "      <th>Avg.Views</th>\n",
       "      <th>NoxScore</th>\n",
       "    </tr>\n",
       "  </thead>\n",
       "  <tbody>\n",
       "    <tr>\n",
       "      <th>1</th>\n",
       "      <td>-</td>\n",
       "      <td>T-Series</td>\n",
       "      <td>Music</td>\n",
       "      <td>155M ↑  0.7%</td>\n",
       "      <td>3.04M   ↑   20.7%</td>\n",
       "      <td></td>\n",
       "    </tr>\n",
       "    <tr>\n",
       "      <th>2</th>\n",
       "      <td>-</td>\n",
       "      <td>PewDiePie</td>\n",
       "      <td>Entertainment</td>\n",
       "      <td>107M   -</td>\n",
       "      <td>5.22M   ↑   6%</td>\n",
       "      <td></td>\n",
       "    </tr>\n",
       "    <tr>\n",
       "      <th>3</th>\n",
       "      <td>-</td>\n",
       "      <td>Cocomelon - Nursery Rhymes</td>\n",
       "      <td>Education</td>\n",
       "      <td>94.5M ↑  0.8%</td>\n",
       "      <td>37.26M   ↑   2.9%</td>\n",
       "      <td></td>\n",
       "    </tr>\n",
       "    <tr>\n",
       "      <th>4</th>\n",
       "      <td>4     -</td>\n",
       "      <td>SET India</td>\n",
       "      <td>Entertainment</td>\n",
       "      <td>83.9M ↑  1.1%</td>\n",
       "      <td>22.4K   ↑   18.4%</td>\n",
       "      <td></td>\n",
       "    </tr>\n",
       "    <tr>\n",
       "      <th>5</th>\n",
       "      <td>5     -</td>\n",
       "      <td>5-Minute Crafts</td>\n",
       "      <td>Howto &amp; Style</td>\n",
       "      <td>68.6M ↑  0.3%</td>\n",
       "      <td>1.76M   ↑   35.1%</td>\n",
       "      <td></td>\n",
       "    </tr>\n",
       "  </tbody>\n",
       "</table>\n",
       "</div>"
      ],
      "text/plain": [
       "0                                Channel Info           Category   \\\n",
       "1         -                          T-Series             Music     \n",
       "2         -                         PewDiePie     Entertainment     \n",
       "3         -        Cocomelon - Nursery Rhymes         Education     \n",
       "4   4     -                         SET India     Entertainment     \n",
       "5   5     -                   5-Minute Crafts     Howto & Style     \n",
       "\n",
       "0    Subscribers           Avg.Views      NoxScore  \n",
       "1    155M ↑  0.7%     3.04M   ↑   20.7%             \n",
       "2      107M   -          5.22M   ↑   6%             \n",
       "3   94.5M ↑  0.8%     37.26M   ↑   2.9%             \n",
       "4   83.9M ↑  1.1%     22.4K   ↑   18.4%             \n",
       "5   68.6M ↑  0.3%     1.76M   ↑   35.1%             "
      ]
     },
     "execution_count": 58,
     "metadata": {},
     "output_type": "execute_result"
    }
   ],
   "source": [
    "df.head()"
   ]
  },
  {
   "cell_type": "code",
   "execution_count": 67,
   "metadata": {},
   "outputs": [
    {
     "data": {
      "text/plain": [
       "(1000, 6)"
      ]
     },
     "execution_count": 67,
     "metadata": {},
     "output_type": "execute_result"
    }
   ],
   "source": [
    "df.shape"
   ]
  },
  {
   "cell_type": "code",
   "execution_count": 68,
   "metadata": {},
   "outputs": [],
   "source": [
    "youtube = df.to_csv(\"youtuber.csv\")"
   ]
  },
  {
   "cell_type": "code",
   "execution_count": 117,
   "metadata": {},
   "outputs": [],
   "source": [
    "youtuber_name = youtuber['Channel Info ']"
   ]
  },
  {
   "cell_type": "code",
   "execution_count": 119,
   "metadata": {},
   "outputs": [
    {
     "name": "stdout",
     "output_type": "stream",
     "text": [
      "List of youtubers:  ['   T-Series ', '   PewDiePie ', '   Cocomelon - Nursery Rhymes ', '   SET India ', '   5-Minute Crafts ', '   WWE ', '   ✿ Kids Diana Show ', '   Zee Music Company ', '   Like Nastya ', '   Canal KondZilla ', '   Justin Bieber ', '   Dude Perfect ', '   Vlad and Niki ', '   Zee TV ', '   BLACKPINK ', '   Marshmello ', '   Ed Sheeran ', '   Big Hit Labels ', '   EminemMusic ', '   Movieclips ', '   MrBeast ', '   Badabun ', '   Ariana Grande ', '   Shemaroo Filmi Gaane ', '   Goldmines Telefilms ', '   Aaj Tak ', '   HolaSoyGerman. ', '   JuegaGerman ', '   whinderssonnunes ', '   ChuChu TV Nursery Rhymes & Kids Songs ', '   Taylor Swift ', '   Felipe Neto ', \"   Pinkfong! Kids' Songs & Stories \", '   elrubiusOMG ', '   Sony Music India ', '   Katy Perry ', '   Wave Music ', '   Fernanfloo ', '   SAB TV ', '   TheEllenShow ', '   BANGTANTV ', '   Você Sabia? ', '   El Reino Infantil ', '   BRIGHT SIDE ', '   Alan Walker ', '   Rihanna ', \"   LooLoo Kids - Nursery Rhymes and Children's Songs \", '   Billie Eilish ', '   YRF ', '   Luisito Comunica ', '   One Direction ', '   T-Series Bhakti Sagar ', '   Little Baby Bum - Nursery Rhymes & Kids Songs ', '   Tips Official ', '   JustinBieberVEVO ', '   Speed Records ', '   Like Nastya Show ', '   LUCCAS NETO - LUCCAS TOON ', '   Get Movies ', '   Maroon 5 ', '   SonyMusicIndiaVEVO ', '   Daddy Yankee ', '   VEGETTA777 ', '   GR6 EXPLODE ', '   Маша и Медведь ', '   WorkpointOfficial ', '   Shakira ', '   Ozuna ', '   WorkpointOfficial ', '   ABS-CBN Entertainment ', '   Trap Nation ', '   Colors TV ', '   J Balvin ', '   Bruno Mars ', '   Luis Fonsi ', '   XXXTENTACION ', '   rezendeevil ', '   NoCopyrightSounds ', '   Bad Bunny ', \"   Spinnin' Records \", '   Infobells - Hindi ', '   TEDx Talks ', '   Markiplier ', '   Selena Gomez ', \"   Ryan's World \", '   Boram Tube Vlog [보람튜브 브이로그] ', '   TaylorSwiftVEVO ', '   ABP NEWS ', '   Venus ', '   Shawn Mendes ', '   Shemaroo ', '   CarryMinati ', '   GENIAL ', '   The Tonight Show Starring Jimmy Fallon ', '   Kimberly Loaiza ', '   Atta Halilintar ', '   BST Kids - Nursery Rhymes & Songs ', '   RihannaVEVO ', '   one31 ', '   EminemVEVO ', '   KatyPerryVEVO ', '   Baby Doli - ToyPudding ', '   Toys and Colors ', '   Maluma ', '   VanossGaming ', '   AuronPlay ', '   Eros Now ', '   Smosh ', '   Ch3Thailand ', '   CVS 3D Rhymes & Kids Songs ', '   shfa ', '   Ultra Bollywood ', '   Ultra Music ', '   jacksepticeye ', '   Super Simple Songs - Kids Songs ', '   T-Series Apna Punjab ', '   The Late Late Show with James Corden ', '   Yuya ', '   Gaane Sune Ansune ', '   WORLDSTARHIPHOP ', '   Galinha Pintadinha ', '   SMTOWN ', '   Ninja ', '   DanTDM ', '   Geet MP3 ', '   LosPolinesios ', '   enchufetv ', '   La Granja de Zenón ', '   A4 ', '   ImagineDragons ', '   Mr Bean ', '   WatchMojo.com ', '   Like Nastya ESP ', '   Drake ', '   Wiz Khalifa ', '   Maria Clara & JP ', '   Rajshri ', '   IndiaTV ', '   James Charles ', '   Ricis Official ', '   OneDirectionVEVO ', '   Logan Paul ', '   SSSniperWolf ', '   Adele ', '   Lucas and Marcus ', '   David Guetta ', '   1MILLION Dance Studio ', '   Collins Key ', '   KSI ', '   Beyoncé ', '   nigahiga ', '   Amit Bhadana ', '   Nicki Minaj ', '   shane ', '   DisneyMusicVEVO ', '   shfa2 - شفا ', '   NickyJamTV ', '   قناة طيور الجنة | toyoraljanahtv ', '   Talking Tom ', '   The Chainsmokers ', '   Jkk Entertainment ', '   Las Ratitas ', '   ashish chanchlani vines ', '   1theK (원더케이) ', '   Troom Troom ', '   Valentina Pontes ', '   Desi Music Factory ', '   The Weeknd ', '   Jake Paul ', '   JennaMarbles ', '   BuzzFeedVideo ', '   DrossRotzank ', '   Marília Mendonça ', '   Chris Brown ', '   FBE ', '   CanalCanalha ', '   Enrique Iglesias ', '   KHANDESHI MOVIES ', '   Post Malone ', '   TheDonato ', '   Renato Garcia ', '   Vevo ', '   GMANetwork ', '   BabyBus - Nursery Rhymes ', '   AuthenticGames ', '   Skrillex ', '   Tasty ', '   Bollywood Classics ', '   Jelly ', '   5-Minute Crafts GIRLY ', '   toycantando ', '   Mister Max ', '   HaerteTest ', '   The ACE Family ', '   DJ Snake ', '   GMM GRAMMY OFFICIAL ', '   Voot Kids ', '   Technical Guruji ', '   Peppa Pig - Official Channel ', '   BB Ki Vines ', '   Wow Kidz ', '   ABP NEWS HINDI ', '   shakiraVEVO ', '   Miss Katy ', '   Michael Jackson ', '   Mikecrack ', '   Anuel AA ', '   netd müzik ', '   David Dobrik ', '   KAROL G ', '   Jess No Limit ', '   PTXofficial ', '   Lady Gaga ', '   infobells - Tamil ', '   JYP Entertainment ', '   ArianaGrandeVevo ', '   mmoshaya ', '   DLS News ', '   Tekashi 6ix9ine ', '   TED ', '   Avicii ', '   5-Minute Crafts PLAY ', '   TheWillyrex ', '   Sia ', \"   America's Got Talent \", '   Masha and The Bear ', '   Bounce Patrol - Kids Songs ', '   Liza Koshy ', '   Sesame Street ', '   Brave Wilderness ', '   infobells - Telugu ', '   LuisFonsiVEVO ', '   Calvin Harris ', '   Rans Entertainment ', '   SlivkiShow ', '   Jingle Toons ', '   Lil pump ', '   Coldplay ', '   Ali-A ', '   Venus Movies ', '   Charlie Puth ', '   Totoykids ', '   jeffreestar ', '   Pencilmation ', '   Unbox Therapy ', '   Little Angel: Nursery Rhymes & Kids Songs ', '   PopularMMOs ', '   Lele Pons ', '   GEN HALILINTAR ', '   Jimmy Kimmel Live ', '   Netflix ', '   EeOneGuy ', '   Sandeep Maheshwari ', '   Linkin Park ', '   Cia. Daniel Saboya ', '   Becky G ', '   Werevertumorro ', '   FaZe Rug ', '   FGTeeV ', '   LazarBeam ', '   Noor Stars ', '   Porta dos Fundos ', '   TRANS7 OFFICIAL ', '   Good Mythical Morning ', '   Kids TV - Nursery Rhymes And Baby Songs ', '   JukiLop ', '   Doggy Doggy Cartoons ', '   Gaby and Alex ', '   Demi Lovato ', '   Nick Jr. ', '   Smile Toys Review ', '   ARY Digital ', '   JFlaMusic ', '   Worldwide Records Bhojpuri ', '   Sony PAL ', '   Wave Music - Bhojpuri ', '   Disney ', '   Clash of Clans ', '   CKN Toys ', '   Vsauce ', '   Baim Paula ', '   Like Nastya Vlog ', '   Paulo Londra ', '   Caeli Alien ', '   Troom Troom Es ', '   Romeo Santos ', '   Masha y el Oso ', '   Saregama Music ', '    ', '   Zee News ', '   Guava Juice ', '   Round2hell ', '   Infinite ', \"   Britain's Got Talent \", '   Diana Kids Stories ', '   ZHC ', '   ExtraPolinesios ', '   Turma da Mônica ', '   TheOdd1sOut ', '   White Hill Music ', '   RsiamMusic : อาร์สยาม ', \"   Genevieve's Playhouse - Learning Videos for Kids \", '   Willyrex ', '   Мирошка ТВ ', '   Sonotek ', '   AdeleVEVO ', '   Gordon Ramsay ', '   Canal IN ', '   Dua Lipa ', '   Tu COSMOPOLIS ', '   Roman Atwood Vlogs ', '   W2S ', '   INCRÍVEL ', '   Mnet K-POP ', '   Lyrical Lemonade ', '   Gusttavo Lima Oficial ', '   Rotana ', '   National Geographic ', '   HowToBasic ', '   Reaction Time ', '   Peppa Pig Español Latino - Canal Oficial ', '   Got Talent Global ', '   Chloe Ting ', '   IDEAS EN 5 MINUTOS ', '   Fatos Desconhecidos ', '   The Lallantop ', '   SQUEEZIE ', '   Maroon5VEVO ', '   Aditya Music ', '   NBA ', '   DeToxoMoroxo ', '   الـريماس - Al-Remas ', '   TheGrefg ', '   SSundee ', '   Musas ', '   Lilly Singh ', '   Movieclips Trailers ', '   SelenaGomezVEVO ', '   Diana Bebe ', '   BabyBus - Canciones Infantiles & Cuentos ', '   Raffy Tulfo in Action ', '   HiMan ', '   Oyuncak Avı ', '   Stubborn Facts ', '   Enaldinho ', '   Aditya Movies ', '   Minecraft - Topic ', '   Preston ', '   IDEIAS INCRÍVEIS ', '   ERB ', '   Rclbeauty101 ', '   FailArmy ', '   Cardi B ', '   FactTechz ', '   Anitta ', '   TheRichest ', '   Tlnovelas ', '   TheBrianMaps ', '   Marvel Entertainment ', '   MalumaVEVO ', '   PDK Films ', '   Mark Rober ', '   Katie Angel ', '   Boyce Avenue ', '   Indosiar ', '   IGN ', '   officialpsy ', '   KBS World ', '   Wengie ', '   Sebastián Yatra ', '   Miley Cyrus ', '   Diana Play ', '   Frost Diamond ', '   Crafty Panda ', '   Sandra Cires Art ', '   Brent Rivera ', '   Kaykai Salaider ', '   Marmok ', '   CookieSwirlC ', '   toyorbabytv ', '   Camila Cabello ', '   Little Mix ', '   CollegeHumor ', '   Manual do Mundo ', '   The Slow Mo Guys ', '   Rafa & Luiz ', '   Naisa Alifia Yuriza (N.A.Y) ', '   Pitbull ', '   Jason Derulo ', '   Dr. Vivek Bindra: Motivational Speaker ', '   MattyBRaps ', '   LEGENDA FUNK ', '   Antrax ', '   Cyprien ', '   Lachlan ', '   Martin Garrix ', '   Trap City ', '   Enes Batur ', '   AM3NlC ', '   Познаватель ', '   حِرف إبداعية في 5 دقائق ', '   SIS vs BRO ', '   Boram Tube ToysReview [보람튜브 토이리뷰] ', '   GRAMMY GOLD OFFICIAL ', '   StarPlus ', '   Green Gold ', '   NikkieTutorials ', '   Masha e o Urso ', '   Shidory Drawblogs ', '   Major Lazer Official ', '   Planeta das Gêmeas ', '   Official Pink Panther ', '   jbalvinVEVO ', '   Fifth Harmony ', '   Jorge & Mateus Oficial ', '   Kwebbelkop ', '   SAM SMITH ', '   El Reino a Jugar ', '   Makiman131 ', '   FitDance ', '   Jennifer Lopez ', '   Total Gaming ', '   WB Kids ', '   AdMe.ru - Сайт о творчестве ', '   Fueled By Ramen ', '   VICE ', '   Gato Galactico ', '   Kurt Hugo Schneider ', '   Queen Official ', '   EnriqueIglesiasVEVO ', '   Mariale ', '   Goldmines Movies ', '   Canal Nostalgia ', '   The Game Theorists ', '   BeyoncéVEVO ', '   Robin Hood Gamer ', '   XpressTV ', '   Super Polina ', '   Zé Neto e Cristiano ', '   Kurzgesagt – In a Nutshell ', '   AzzyLand ', '   حقائق وأسرار ', '   Ranz Kyle ', '   League of Legends ', '   Matheus Yurley ', '   NickiMinajAtVEVO ', '   Hear This Music ', '   BIGBANG ', '   Мастерская Настроения ', '   RobleisIUTU ', '   MAIKI021 ', '   REACT ', '   H2ODelirious ', '   SAAIHALILINTAR ', '   Alan Becker ', '   Lindsey Stirling ', '   Invento na Hora ', '   Henrique e Juliano ', '   李子柒 Liziqi ', '   Matt Stonie ', '   The LaBrant Fam ', '   #Refugio Mental ', '   iTownGamePlay *Terror&Diversión* ', '   POPS Kids ', '   Apple ', '   Parafernalha ', '   Rosanna Pansino ', '   MrSuicideSheep ', '   The King of Random ', '   Like Nastya AE ', '   Ultra Movie Parlour ', '   Travis Scott ', '   Everson Zoio ', '   Farruko ', '   Camila Loures ', '   F2Freestylers - Ultimate Soccer Skills Channel ', '   TED-Ed ', '   GMA Public Affairs ', '   Diana Roma Show ', '   Emiway Bantai ', '   PlayHard ', '   Volga Video ', '   wifistudy ', '   Chad Wild Clay ', '   Goldmines Hindi ', '   Pen Movies ', '   Talking Tom and Friends ', '   ChrisBrownVEVO ', '   شبكة العاب العرب | Arab Games Network ', '   CaseyNeistat ', '   Genierock ', '   Marques Brownlee ', '   Blossom ', '   TazerCraft ', '   PlayStation ', '   CalvinHarrisVEVO ', '   NORMAN FAIT DES VIDÉOS ', '   Kerajinan 5-Menit ', '   Vete a la Versh ', '   zayn ', '   zbing z. ', '   Niana Guerrero ', '   Goldmines Dishoom ', '   Surya Citra Televisi (SCTV) ', '   Little Angel Español - Canciones Infantiles ', '   キッズライン♡Kids Line ', '   YOLO ', '   Tfue ', '   Shemaroo Movies ', '   MiawAug ', '   Matt Steffanina ', '   Mother Goose Club Playhouse ', '   Linus Tech Tips ', '   Machinima ', '   Bie The Ska ', '   Трум Трум ', '   theRadBrad ', '   FAP TV ', '   Bela Bagunça ', '   Its JoJo Siwa ', '   Ami Rodriguez ', '   Vijay Television ', '   Kids Play ', '   The World Adventures हिन्दी ', '   Deddy Corbuzier ', '   Dave and Ava - Nursery Rhymes and Baby Songs ', '   TRANS TV Official ', \"   Les' Copaque Production \", '   dangmattsmith ', '   Wesley Safadão ', '   Online Job ', '   The Shiny Peanut ', '   Dani Russo Tv ', '   ★ Kids Roma Show ', '   infobells ', '   Pop Chartbusters ', '   ChainsmokersVEVO ', '   EU FICO LOKO ', '   JesseAndMike ', '   ช่อง8 : ThaiCh8 ', '   melanie martinez ', '   etvteluguindia ', '   Atlantic Records ', '   Kiddiestv Hindi ', '   Dyland PROS ', '   Wassabi ', '   DemiLovatoVEVO ', '   #Refúgio Mental ', '   CrashCourse ', '   MrGear ', '   #Refúgio Mental ', '   FunToys Collector Disney Toys Review ', '   Vlad and Niki Arabic ', '   SriBalajiMovies ', '   Tiana ', '   LetsGoMartin- Canciones Infantiles ', '   And TV ', '   elliegoulding ', '   Jason Vlogs ', '   CrazyRussianHacker ', '   Maya and Mary [EN] ', '   Meghan Trainor ', '   MyLifeAsEva ', '   Gibby :) ', '   Morgz ', '   La Rosa de Guadalupe ', '   DALLMYD ', '   ExpCaseros ', '   Sky Does Everything ', '   twenty one pilots ', '   Health Time ', '   Zoella ', '   Adexe & Nau ', '   Dudu Moura ', '   Little Baby Bum en Español ', \"   It's Mamix \", '   AMARIN TVHD ', '   Conor Maynard ', '   Nao FunFun ', '   Gallina Pintadita ', '   Ya - Alisa ', '   Mis Pastelitos ', '   Ja Mill ', '   Mohamed Ramadan I محمد رمضان ', '   luzugames ', '   BabyBus - Cerita & Lagu Anak-anak ', '   Talking Angela ', '   Telemundo ', '   Dolan Twins ', '   Daftar Populer ', '   Team Films Bhojpuri ', '   Kinder Spielzeug Kanal ', '   Baby Big Mouth ', '   Juliana Baltar ', '   Like Nastya PRT ', '   AviciiOfficialVEVO ', '   Saad Lamjarred | سعد لمجرد ', '   MK MUSIC ', '   Neha Kakkar ', '   Miranda Sings ', '   T3ddy ', '   PowerKids TV ', '   Doc Tops ', '   CaptainSparklez ', '   Ch7HD ', '   ShawnMendesVEVO ', '   TheWeekndVEVO ', '   GMM25Thailand ', '   Emily Tube ', '   ElTrollino ', '   O Que Não Dizer Oficial ', '   5incominutos ', '   ATHLEAN-X™ ', '   Anaysa ', '   Galo Frito ', '   CNN ', '   DaniRep | +6 Vídeos Diarios De GTA 5 Online! ', '   As/Is ', '   Arif muhammad ', '   NMF News ', '   Naz | ناز ', '   colinfurze ', '   Coisa de Nerd ', '   Viih Tube ', '   Jesse ', '   SaraBeautyCorner - DIY, Comedy, Makeup, Nail Art ', '   fouseyTUBE ', '   NOBRU ', '   RiceGum ', '   HAR PAL GEO ', '   Harsh Beniwal ', '   JJ Olatunji ', '   Just For Laughs Gags ', '   RomanAtwood ', '   Mejores Juguetes ', '   Dream ', '   TV Ana Emilia ', '   5-Minute Crafts FAMILY ', '   Juanpa Zurita ', '   ExplosmEntertainment ', '   gymvirtual ', '   AdamThomasMoran ', '   CNCO ', '   RedeTV ', '   BCC Trolling ', '   Ei Nerd ', '   Troom Troom PT ', '   Migos ATL ', '   Lulu99 ', '   Ninja Kidz TV ', '   Saturday Night Live ', '   Vlad and Niki IDN ', '   Vania Mania Kids ', '   Annoying Orange ', '   RCTI - LAYAR DRAMA INDONESIA ', '   HUM TV ', '   Avril Lavigne ', '   Jazzghost ', '   SUPER SLICK SLIME SAM ', '   Tanner Fox ', '   ABS-CBN News ', '   Área Secreta ', '   NishaMadhulika ', '   FC Barcelona ', '   Zuni and Family ', '   OficialHungria ', '   Primitive Technology ', '   MileyCyrusVEVO ', '   SBT Online ', '   Typical Gamer ', '   The Q ', '   Lokdhun Punjabi ', '   Luan Santana ', '   Sab kuchh sikho jano ', '   DJ Khaled ', '   VitalyzdTv ', '   DopeLyrics ', '   JD Pantoja ', '   News18 India ', '   Deji ', '   व्लाद और निकिता ', '   Cut ', '   BuzzFeed Multiplayer ', '   Craftingeek* ', '   UFC - Ultimate Fighting Championship ', '   LEGO ', '   LA DIVAZA ', '   Awakening Music ', '   P!NK ', '   SiaVEVO ', '   ImagineDragonsVEVO ', '   Lil Nas X ', '   NEXT9NEWS हर खबर आप तक ', '   Kluna Tik ', '   Piuzinho ', '   Eva Bravo Play ', '   tanboy kun ', '   50 Cent ', '   Давай поиграем в игрушки ', '   Bart Baker ', '   MNCTV Official ', '   Toys Make Me Smile ', '   Zach Choi ASMR ', '   Franciny Ehlke ', '   Prajapati News ', '   Toys And Funny Kids Play Doh Cartoons ', '   El Rincón De Giorgio ', '   НТВ ', '   Chill Nation ', '   Fortnite ', '   Bethany Mota ', '   ولاية بطيخ | Melon City Show ', '   Thairath ', '   Pina Records ', '   How It Should Have Ended ', '   Maymo ', '   Top Viral Talent ', '   The Royalty Family ', '   HellomaphieMX ', '   FifthHarmonyVEVO ', '   Comedy Central ', '   Dalas Review ', '   Dobre Brothers ', '   ABC News ', '   Bollywood Classics ', '   Lucas Rangel ', '   Lahari Music | T-Series ', '   Маша та Ведмідь ', '   Videogyan - Nursery Rhymes & Songs For Kids ', '   CookingShooking Hindi ', '   Lana Del Rey ', '   Make Joke Of ', '   Mo Vlogs ', '   TheSyndicateProject ', '   Johny FamilyShow ', '   Zig & Sharko ', '   HoomanTV ', '   PitbullVEVO ', '   Halsey ', '   Blippi ', '   Jass Records ', '   Goldmines Premiere ', '   UnspeakableGaming ', '   stampylonghead ', '   ENJO Entertainment ', '   LOUD ', '   PowerfulJRE ', '   Ray William Johnson ', '   LipaoGamer ', '   Jane ASMR 제인 ', '   Future ', '   Red Bull ', '   Barbie ', '   MBC مصر ', '   luisitorey ', '   the Hacksmith ', '   GoPro ', '   Wish 107.5 ', '   O Canal do Joãozinho - Little Angel Português ', '   GMMTV ', '   Rebecca Zamolo ', '   ETV Jabardasth ', '   Niki and Gabi ', '   My Mate Nate ', '   QPark ', '   Super Senya ', '   DANIEL EL TRAVIESO VIDEOS ', '   emma chamberlain ', '   Jessie J ', '   Daily Dose Of Internet ', '   BBC ', '   Peppa Pig em Português Brasil - Canal Oficial ', '   DrakeVEVO ', '   MR. INDIAN HACKER ', '   Tyga ', '   Lil Wayne ', '   Más SKabeche ', '   TrapMusicHDTV ', '   Muselk ', '   Ice Cream Rolls ', '   Rayito ', '   Tomorrowland ', '   Rooster Teeth ', '   123 GO! Spanish ', '   Blippi Español ', '   Narins Beauty ', '   Mari Maria ', '   AsapSCIENCE ', '   Wylsacom ', '   Zee Bangla ', '   Simone e Simaria ', '   Google ', '   Laurinha e Helena - Clubinho da Laura ', '   Family Fun Pack ', '   TsMadaan ', '   Chotoonz TV - Funny Cartoons for Kids ', '   Toyscouter ', '   Matheus e Kauan ', '   Yudist Ardhana ', '   Wismichu ', '   Joey Graceffa ', '   Programa Pânico Lab ', '   办公室小野官方频道 Ms Yeah Official Channel ', '   First We Feast ', '   Coke Studio ', '   JP Plays ', '   Kuplinov ► Play ', '   Caracol Raivoso ', '   Поззи ', '   Sidemen ', '   Karina Garcia ', '   T-Series Regional ', '   Aayu and Pihu Show ', '   ZarcortGame ', '   Nat and Essie ', '   Mazhavil Manorama ', '   GoldminesAction ', '   Ivana Alawi ', '   T-STUDIO ', '   TwinRoozi 쌍둥이 루지 ', '   DuDuPopTOY ', '   Tati ', '   Haryanvi Maina ', '   Vy Qwaint ', '   Koo Koo TV - Hindi ', '   BBC News Hindi ', '   BERTH OH! ', '   HZHtube Kids Fun ', '   LadyGagaVEVO ', '   Sun TV ', '   The Bee Family ', '   PlaticaPolinesia ', '   Pautips ', '   Zee Music Classic ', '   SuperMarioLogan ', '   Clean Bandit ', '   Brincando com o Rafael ', '   The Film Theorists ', '   WIFI ', '   Cris Devil Gamer ', '   Raditya Dika ', '   ToyTocToc ', '   RocketJump ', '   Tauz ', '   Stone Music Entertainment ', '   GIMS ', '   CinemaSins ', '   The Noite com Danilo Gentili ', '   7 Minutoz ', '   Kids smile TV ', '   Kendrick Lamar ', '   Safiya Nygaard ', '   NTN Vlogs ', '   الجانب المُشرق | Bright Side Arabic ', \"   Wild 'N Out \", '   FROST ', '   RomeoSantosVEVO ', '   Justin Timberlake ', '   FIFATV ', '   Rubius Z ', '   Kylie Jenner ', '   はじめしゃちょー（hajime） ', '   MyMissAnand ', '   So Yummy ', '   Star Casablanca | نجوم الدار البيضاء ', '   Totoykids Español ', \"   Kabita's Kitchen \", '   Hueva ', '   Zee Telugu ', '   Genius ', '   SAS-ASMR ', '   TikTak Draw ', '   Michelle Phan ', '   Netflix India ', '   LaurDIY ', '   NDTV India ', '   welovekamikaze ', '   DemolitionRanch ', '   Miniminter ', '   OneRepublic ', '   The Infographics Show ', '   TRT Ertugrul by PTV ', '   Denis ', '   YosStoP ', '   HelloMaphie ', '   Crazy Frog ', '   Morphle TV ', '   DisneyJuniorUK ', '   Warner Bros. Pictures ', '   eltrece ', '   Slogo ', '   SmarterEveryDay ', '   Crescendo com Luluca ', '   Liova and Toys ', '   Dynamo Gaming ', '   Planet Earth INDIA ', '   YOLO AVENTURAS ', '   Will Smith ', '   Sonotek Haryanvi ', '   Luan Palomera ', '   Irmãos Berti ', '   HikakinTV ', '   Jen Smith ', '   Izabela Stress ', '   Vox ', '   aLexBY11 ', '   karameeshchannel ', '   POCOYÓ en ESPAÑOL - Canal Oficial ', '   ครูนกเล็ก ', '   Proximity ', '   Jaiden Animations ', '   Patty Mayo ', '   Unspeakable ', '   Cartoon Network ', '   핑크퐁 (인기 동요・동화) ', '   Canal Top10 ', '   BRKsEDU ', '   Funny Stop Motion videos ', '   anasala family I أنس و أصالة ', '   Alex Gonzaga Official ', '   Techno Gamerz ', '   Yair17 ', '   The X Factor UK ', '   Great Indian Comedy ', '   Desimpedidos ', '   Haschak Sisters ', '   Colleen Ballinger ', '   БЕРИ И ДЕЛАЙ ', '   Mussoumano ', '   Аид [VyacheslavOO] ', '   Study IQ education ', '   Karol Sevilla ', '   せんももあいしーCh Sen, Momo, Ai & Shii ', '   NDTV ', '   FrontaL Gaming ', '   Goldmines Housefull ', '   Vogue ', '   Ini Talk Show ', '   elcarteldesantatv ', '   TWICE ', '   Arcangel ', '   Games EduUu ', '   Wave Music - Bhakti ', '   freekickerz ', \"   हिंदी - Genevieve's Playhouse \", '   Come Play With Me ', '   Stephen Sharer ', '   MBCkpop ', '   Zach King ', '   Rawan and Rayan ', '   Дима Масленников ', '   Gustavo Paródias ', '   Caso Cerrado ', '   rsfriends ', '   123 GO! ', '   João Caetano ', '   أترو/Atro ', '   Lizbeth Rodriguez ', '   Natalies Outlet ', '   Lady Diana ', '   Pica - Pica Oficial ', '   Akon ', '   Black Eyed Peas ', '   Lorrayne Oliveira ', '   Knowledge Tv हिन्दी ', '   Muca Muriçoca ', '   Yoga With Adriene ', '   LastWeekTonight ', '   Kênh Thiếu Nhi - BHMEDIA ', '   Life Hacks & Experiments ', '   YoungBoy Never Broke Again ', '   Prince Royce ', '   Thơ Nguyễn ', '   Kim Loaiza ', '   BBC News ', '   The Daily Show with Trevor Noah ', '   CJ SO COOL ', '   Sofia Castro ', '   Levinho ', '   BIBI ', '   T-Series Hamaar Bhojpuri ', '   Hero Movies 2020 ', '   TheBrainDit ', '   Wow Kidz Action ', '   FaZe Clan ', '   Telugu Filmnagar ', '   grav3yardgirl ', '   FutParódias ', '   Avocado Couple I Crazy Comics ', '   MrBeast Gaming ', '   MeghanTrainorVEVO ', '   truly ', '   EverythingApplePro ', '   AwesomenessTV ', '   Facts Verse ', '   News24 ', '   POPS MUSIC ', '   O Reino Infantil ', '   Grandpa Kitchen ', '   Mamix? ']\n",
      "Type of listOfNames:  <class 'list'>\n"
     ]
    }
   ],
   "source": [
    "list_of_youtubers = youtuber_name.to_list()\n",
    "print('List of youtubers: ', list_of_youtubers)\n",
    "print('Type of listOfNames: ', type(list_of_youtubers))"
   ]
  },
  {
   "cell_type": "code",
   "execution_count": null,
   "metadata": {},
   "outputs": [],
   "source": []
  }
 ],
 "metadata": {
  "hide_input": false,
  "kernelspec": {
   "display_name": "Python 3",
   "language": "python",
   "name": "python3"
  },
  "language_info": {
   "codemirror_mode": {
    "name": "ipython",
    "version": 3
   },
   "file_extension": ".py",
   "mimetype": "text/x-python",
   "name": "python",
   "nbconvert_exporter": "python",
   "pygments_lexer": "ipython3",
   "version": "3.7.6"
  },
  "toc": {
   "base_numbering": 1,
   "nav_menu": {},
   "number_sections": true,
   "sideBar": true,
   "skip_h1_title": false,
   "title_cell": "Table of Contents",
   "title_sidebar": "Contents",
   "toc_cell": false,
   "toc_position": {},
   "toc_section_display": true,
   "toc_window_display": false
  },
  "varInspector": {
   "cols": {
    "lenName": 16,
    "lenType": 16,
    "lenVar": 40
   },
   "kernels_config": {
    "python": {
     "delete_cmd_postfix": "",
     "delete_cmd_prefix": "del ",
     "library": "var_list.py",
     "varRefreshCmd": "print(var_dic_list())"
    },
    "r": {
     "delete_cmd_postfix": ") ",
     "delete_cmd_prefix": "rm(",
     "library": "var_list.r",
     "varRefreshCmd": "cat(var_dic_list()) "
    }
   },
   "types_to_exclude": [
    "module",
    "function",
    "builtin_function_or_method",
    "instance",
    "_Feature"
   ],
   "window_display": false
  }
 },
 "nbformat": 4,
 "nbformat_minor": 4
}
